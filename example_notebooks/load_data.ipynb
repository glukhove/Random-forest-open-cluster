{
 "cells": [
  {
   "cell_type": "markdown",
   "metadata": {},
   "source": [
    "# Load data from Vizier\n",
    "\n",
    "#### Index<a name=\"index\"></a>\n",
    "1. [Import packages](#imports)\n",
    "2. [Load raw data](#loadData)\n",
    "3. [Create and save data](#createData)\n",
    "    1. [True clusters](#createTrue)\n",
    "    2. [Non clusters - Uniform](#createUniformNonClusters)\n",
    "    3. [Non clusters - Functional](#createFunctionalNonClusters)\n",
    "\n",
    "## 1. Import packages<a name=\"imports\"></a>"
   ]
  },
  {
   "cell_type": "code",
   "execution_count": 1,
   "metadata": {},
   "outputs": [],
   "source": [
    "import random\n",
    "import matplotlib.pyplot as plt\n",
    "import numpy as np\n",
    "import pandas as pd\n",
    "import seaborn as sns\n",
    "\n",
    "from astroquery.vizier import Vizier"
   ]
  },
  {
   "cell_type": "markdown",
   "metadata": {},
   "source": [
    "#### Aestetic settings"
   ]
  },
  {
   "cell_type": "code",
   "execution_count": 2,
   "metadata": {},
   "outputs": [],
   "source": [
    "%matplotlib inline\n",
    "\n",
    "sns.set(font_scale=1.3, style=\"ticks\")"
   ]
  },
  {
   "cell_type": "markdown",
   "metadata": {},
   "source": [
    "## 2. Load raw data<a name=\"loadData\"></a>"
   ]
  },
  {
   "cell_type": "code",
   "execution_count": 3,
   "metadata": {},
   "outputs": [
    {
     "name": "stdout",
     "output_type": "stream",
     "text": [
      "TableList with 1 tables:\n",
      "\t'0:J/A+A/618/A93/members' with 16 column(s) and 401448 row(s) \n"
     ]
    }
   ],
   "source": [
    "Vizier.ROW_LIMIT = 3000000\n",
    "catalogs = Vizier.get_catalogs('J/A+A/618/A93/members')\n",
    "print(catalogs)  # astroquery.utils.commons.TableList"
   ]
  },
  {
   "cell_type": "markdown",
   "metadata": {},
   "source": [
    "Since `catalogs` only has 1 table, we are only interested in `catalogs[0]`. We will transform it to a `pandas` Data Frame for ease of handling."
   ]
  },
  {
   "cell_type": "code",
   "execution_count": 4,
   "metadata": {},
   "outputs": [
    {
     "data": {
      "text/html": [
       "<div>\n",
       "<style scoped>\n",
       "    .dataframe tbody tr th:only-of-type {\n",
       "        vertical-align: middle;\n",
       "    }\n",
       "\n",
       "    .dataframe tbody tr th {\n",
       "        vertical-align: top;\n",
       "    }\n",
       "\n",
       "    .dataframe thead th {\n",
       "        text-align: right;\n",
       "    }\n",
       "</style>\n",
       "<table border=\"1\" class=\"dataframe\">\n",
       "  <thead>\n",
       "    <tr style=\"text-align: right;\">\n",
       "      <th></th>\n",
       "      <th>RA_ICRS</th>\n",
       "      <th>DE_ICRS</th>\n",
       "      <th>Source</th>\n",
       "      <th>GLON</th>\n",
       "      <th>GLAT</th>\n",
       "      <th>plx</th>\n",
       "      <th>pmRA</th>\n",
       "      <th>pmDE</th>\n",
       "      <th>o_Gmag</th>\n",
       "      <th>Gmag</th>\n",
       "      <th>BP-RP</th>\n",
       "      <th>PMemb</th>\n",
       "      <th>Cluster</th>\n",
       "      <th>SimbadName</th>\n",
       "      <th>_RA.icrs</th>\n",
       "      <th>_DE.icrs</th>\n",
       "    </tr>\n",
       "  </thead>\n",
       "  <tbody>\n",
       "    <tr>\n",
       "      <th>0</th>\n",
       "      <td>301.229391</td>\n",
       "      <td>-11.186849</td>\n",
       "      <td>4190669036038417152</td>\n",
       "      <td>30.982256</td>\n",
       "      <td>-21.322445</td>\n",
       "      <td>2.1358</td>\n",
       "      <td>1.268</td>\n",
       "      <td>-8.560</td>\n",
       "      <td>348</td>\n",
       "      <td>14.804825</td>\n",
       "      <td>1.412944</td>\n",
       "      <td>0.7</td>\n",
       "      <td>Alessi_10</td>\n",
       "      <td></td>\n",
       "      <td>301.229385</td>\n",
       "      <td>-11.186812</td>\n",
       "    </tr>\n",
       "    <tr>\n",
       "      <th>1</th>\n",
       "      <td>301.014346</td>\n",
       "      <td>-11.419202</td>\n",
       "      <td>4190657903483144960</td>\n",
       "      <td>30.660791</td>\n",
       "      <td>-21.229051</td>\n",
       "      <td>2.2071</td>\n",
       "      <td>1.136</td>\n",
       "      <td>-8.043</td>\n",
       "      <td>331</td>\n",
       "      <td>17.350530</td>\n",
       "      <td>2.605459</td>\n",
       "      <td>1.0</td>\n",
       "      <td>Alessi_10</td>\n",
       "      <td>Gaia DR2 4190657903483144960</td>\n",
       "      <td>301.014341</td>\n",
       "      <td>-11.419167</td>\n",
       "    </tr>\n",
       "    <tr>\n",
       "      <th>2</th>\n",
       "      <td>300.801432</td>\n",
       "      <td>-11.195500</td>\n",
       "      <td>4190723255705770240</td>\n",
       "      <td>30.783967</td>\n",
       "      <td>-20.945461</td>\n",
       "      <td>2.0438</td>\n",
       "      <td>1.259</td>\n",
       "      <td>-8.064</td>\n",
       "      <td>329</td>\n",
       "      <td>12.473157</td>\n",
       "      <td>0.865277</td>\n",
       "      <td>0.8</td>\n",
       "      <td>Alessi_10</td>\n",
       "      <td></td>\n",
       "      <td>300.801426</td>\n",
       "      <td>-11.195466</td>\n",
       "    </tr>\n",
       "    <tr>\n",
       "      <th>3</th>\n",
       "      <td>301.006976</td>\n",
       "      <td>-11.037219</td>\n",
       "      <td>4190732120518267776</td>\n",
       "      <td>31.028893</td>\n",
       "      <td>-21.061430</td>\n",
       "      <td>2.3256</td>\n",
       "      <td>1.189</td>\n",
       "      <td>-8.100</td>\n",
       "      <td>301</td>\n",
       "      <td>16.400896</td>\n",
       "      <td>1.935030</td>\n",
       "      <td>1.0</td>\n",
       "      <td>Alessi_10</td>\n",
       "      <td>Gaia DR2 4190732120518267776</td>\n",
       "      <td>301.006971</td>\n",
       "      <td>-11.037184</td>\n",
       "    </tr>\n",
       "    <tr>\n",
       "      <th>4</th>\n",
       "      <td>301.678011</td>\n",
       "      <td>-10.865093</td>\n",
       "      <td>4190774206899418880</td>\n",
       "      <td>31.495512</td>\n",
       "      <td>-21.585570</td>\n",
       "      <td>2.2585</td>\n",
       "      <td>1.598</td>\n",
       "      <td>-7.630</td>\n",
       "      <td>322</td>\n",
       "      <td>17.435835</td>\n",
       "      <td>2.370981</td>\n",
       "      <td>1.0</td>\n",
       "      <td>Alessi_10</td>\n",
       "      <td>Gaia DR2 4190774206899418880</td>\n",
       "      <td>301.678004</td>\n",
       "      <td>-10.865060</td>\n",
       "    </tr>\n",
       "  </tbody>\n",
       "</table>\n",
       "</div>"
      ],
      "text/plain": [
       "      RA_ICRS    DE_ICRS               Source       GLON       GLAT     plx  \\\n",
       "0  301.229391 -11.186849  4190669036038417152  30.982256 -21.322445  2.1358   \n",
       "1  301.014346 -11.419202  4190657903483144960  30.660791 -21.229051  2.2071   \n",
       "2  300.801432 -11.195500  4190723255705770240  30.783967 -20.945461  2.0438   \n",
       "3  301.006976 -11.037219  4190732120518267776  31.028893 -21.061430  2.3256   \n",
       "4  301.678011 -10.865093  4190774206899418880  31.495512 -21.585570  2.2585   \n",
       "\n",
       "    pmRA   pmDE  o_Gmag       Gmag     BP-RP  PMemb    Cluster  \\\n",
       "0  1.268 -8.560     348  14.804825  1.412944    0.7  Alessi_10   \n",
       "1  1.136 -8.043     331  17.350530  2.605459    1.0  Alessi_10   \n",
       "2  1.259 -8.064     329  12.473157  0.865277    0.8  Alessi_10   \n",
       "3  1.189 -8.100     301  16.400896  1.935030    1.0  Alessi_10   \n",
       "4  1.598 -7.630     322  17.435835  2.370981    1.0  Alessi_10   \n",
       "\n",
       "                     SimbadName    _RA.icrs   _DE.icrs  \n",
       "0                                301.229385 -11.186812  \n",
       "1  Gaia DR2 4190657903483144960  301.014341 -11.419167  \n",
       "2                                300.801426 -11.195466  \n",
       "3  Gaia DR2 4190732120518267776  301.006971 -11.037184  \n",
       "4  Gaia DR2 4190774206899418880  301.678004 -10.865060  "
      ]
     },
     "execution_count": 4,
     "metadata": {},
     "output_type": "execute_result"
    }
   ],
   "source": [
    "catalog = catalogs[0].to_pandas()\n",
    "catalog = catalog.applymap(lambda x: x.decode() if isinstance(x, bytes) else x)\n",
    "catalog.head()"
   ]
  },
  {
   "cell_type": "markdown",
   "metadata": {},
   "source": [
    "## 3. Create and save data<a name=\"createData\"></a>\n",
    "\n",
    "First choose if you want to see in the notebook the scatter plots and histograms created."
   ]
  },
  {
   "cell_type": "code",
   "execution_count": 5,
   "metadata": {},
   "outputs": [],
   "source": [
    "plot_scatter = False\n",
    "plot_hist = False"
   ]
  },
  {
   "cell_type": "code",
   "execution_count": 6,
   "metadata": {},
   "outputs": [],
   "source": [
    "data_folder = '../data'"
   ]
  },
  {
   "cell_type": "markdown",
   "metadata": {},
   "source": [
    "### 3.1. True clusters<a name=\"createTrue\"></a>"
   ]
  },
  {
   "cell_type": "code",
   "execution_count": 7,
   "metadata": {},
   "outputs": [],
   "source": [
    "clusters = np.unique(catalog['Cluster'])\n",
    "number_clusters = len(clusters)\n",
    "\n",
    "true_clusters_2d_hist = []\n",
    "for i, cluster in enumerate(clusters):\n",
    "    is_cluster = catalog['Cluster'] == cluster\n",
    "    data_cluster = catalog[is_cluster]\n",
    "    \n",
    "    # Remove stars for which Gaia didn't measure magnitude or colour\n",
    "    gmag = data_cluster['Gmag']\n",
    "    bp_rp = data_cluster['BP-RP']\n",
    "    is_nan = (np.isnan(bp_rp)) | (np.isnan(gmag))\n",
    "    data_cluster = data_cluster[~is_nan]\n",
    "    \n",
    "    gmag = data_cluster['Gmag']\n",
    "    bp_rp = data_cluster['BP-RP']\n",
    "    \n",
    "    if plot_scatter:\n",
    "        plt.scatter(bp_rp, gmag, marker='.')\n",
    "        plt.xlabel(r'$B_p - R_p$ (mag)')\n",
    "        plt.ylabel(r'$G$ (mag)')\n",
    "        plt.title(f'Cluster {cluster}')\n",
    "        plt.ylim([18,8])\n",
    "        plt.show()\n",
    "\n",
    "    hist, xedges, yedges = np.histogram2d(bp_rp, gmag, bins=20, \n",
    "                                          density=True)\n",
    "\n",
    "    plt.imshow(hist, interpolation='nearest')\n",
    "    plt.title(f'Cluster {cluster}')\n",
    "    if i < 10:\n",
    "        #plt.savefig(f'{data_folder}/example_plots/true_clasters/{cluster}.jpg', bbox_inches='tight')\n",
    "        pass\n",
    "    if plot_hist:\n",
    "        plt.show()\n",
    "    plt.close()\n",
    "\n",
    "    hist_linear = hist.reshape((400))\n",
    "    true_clusters_2d_hist.append(hist_linear)\n",
    "\n",
    "true_clusters_2d_hist_file = f'{data_folder}/true_clusters_2d_hist_{number_clusters}.npy'\n",
    "#np.save(true_clusters_2d_hist_file, true_clusters_2d_hist)"
   ]
  },
  {
   "cell_type": "markdown",
   "metadata": {},
   "source": [
    "Confirm the file was well saved by loading it. If the output of the cell is False, the saving went wrong."
   ]
  },
  {
   "cell_type": "code",
   "execution_count": 8,
   "metadata": {},
   "outputs": [
    {
     "data": {
      "text/plain": [
       "True"
      ]
     },
     "execution_count": 8,
     "metadata": {},
     "output_type": "execute_result"
    }
   ],
   "source": [
    "true_clusters_2d_hist_saved = np.load(true_clusters_2d_hist_file, allow_pickle=True)\n",
    "np.allclose(true_clusters_2d_hist_saved, true_clusters_2d_hist)"
   ]
  },
  {
   "cell_type": "code",
   "execution_count": 9,
   "metadata": {},
   "outputs": [
    {
     "name": "stdout",
     "output_type": "stream",
     "text": [
      "Number of positive samples:  1229\n"
     ]
    }
   ],
   "source": [
    "print('Number of positive samples: ', len(true_clusters_2d_hist))"
   ]
  },
  {
   "cell_type": "markdown",
   "metadata": {},
   "source": [
    "### 3.2. Non clusters - Uniform<a name=\"createUniformNonClusters\"></a>"
   ]
  },
  {
   "cell_type": "code",
   "execution_count": 10,
   "metadata": {},
   "outputs": [],
   "source": [
    "non_clusters_2d_hist = []"
   ]
  },
  {
   "cell_type": "code",
   "execution_count": 11,
   "metadata": {},
   "outputs": [],
   "source": [
    "for i in range (0, number_clusters):\n",
    "    number_stars = int(random.uniform (30, 500)) \n",
    "    gmag = np.random.uniform (8, 18, size=number_stars)\n",
    "    bp_rp = np.random.uniform (0, 5, size=number_stars)\n",
    "    \n",
    "    hist, xedges, yedges = np.histogram2d(bp_rp, gmag, bins=20, \n",
    "                                          density=True)\n",
    "\n",
    "    if i <= 10:\n",
    "        plt.imshow(hist, interpolation='nearest')\n",
    "        plt.title(f'Non Cluster {i}')\n",
    "#         plt.savefig(f'{data_folder}/example_plots/non_clusters/unif_non_cluster_{i}.jpg', \n",
    "#                     bbox_inches='tight')\n",
    "    \n",
    "    if plot_hist:\n",
    "        plt.show()\n",
    "    plt.close()\n",
    "    \n",
    "    hist_linear = hist.reshape((400))\n",
    "    non_clusters_2d_hist.append(hist_linear)\n",
    "    \n",
    "non_clusters_2d_hist_file = f'{data_folder}/unif_non_clusters_2d_hist_{number_clusters}.npy'\n",
    "#np.save(non_clusters_2d_hist_file, non_clusters_2d_hist)"
   ]
  },
  {
   "cell_type": "markdown",
   "metadata": {},
   "source": [
    "Confirm the file was well saved by loading it. If the output of the cell is False, the saving went wrong."
   ]
  },
  {
   "cell_type": "code",
   "execution_count": null,
   "metadata": {},
   "outputs": [],
   "source": [
    "non_clusters_2d_hist_saved = np.load(non_clusters_2d_hist_file, allow_pickle=True)\n",
    "np.allclose(non_clusters_2d_hist_saved, non_clusters_2d_hist)"
   ]
  },
  {
   "cell_type": "markdown",
   "metadata": {},
   "source": [
    "### 3.3. Non clusters - Functional<a name=\"createFunctionalNonClusters\"></a>"
   ]
  },
  {
   "cell_type": "code",
   "execution_count": 13,
   "metadata": {},
   "outputs": [],
   "source": [
    "non_clusters_2d_hist = []"
   ]
  },
  {
   "cell_type": "code",
   "execution_count": 14,
   "metadata": {},
   "outputs": [],
   "source": [
    "for i in range (0, number_clusters):\n",
    "    number_stars = int(random.uniform (30, 500)) \n",
    "\n",
    "    gmag = [np.arcsin(i) + random.gauss(1, 0.5) for i in np.linspace(-1, 1, number_stars)]\n",
    "    bp_rp = np.linspace(-1, 1, number_stars)\n",
    "    \n",
    "    hist, xedges, yedges = np.histogram2d(bp_rp, gmag, bins=20, \n",
    "                                          density=True)\n",
    "\n",
    "    if i <= 10:\n",
    "        plt.imshow(hist, interpolation='nearest')\n",
    "        plt.title(f'Non Cluster {i}')\n",
    "        plt.savefig(f'{data_folder}/example_plots/non_clusters/func_non_cluster_{i}.jpg', \n",
    "                    bbox_inches='tight')\n",
    "    \n",
    "    if plot_hist:\n",
    "        plt.show()\n",
    "    plt.close()\n",
    "    \n",
    "    hist_linear = hist.reshape((400))\n",
    "    non_clusters_2d_hist.append(hist_linear)\n",
    "    \n",
    "non_clusters_2d_hist_file = f'{data_folder}/func_non_clusters_2d_hist_{number_clusters}.npy'\n",
    "np.save(non_clusters_2d_hist_file, non_clusters_2d_hist)"
   ]
  },
  {
   "cell_type": "markdown",
   "metadata": {},
   "source": [
    "Confirm the file was well saved by loading it. If the output of the cell is False, the saving went wrong."
   ]
  },
  {
   "cell_type": "code",
   "execution_count": 15,
   "metadata": {},
   "outputs": [
    {
     "data": {
      "text/plain": [
       "True"
      ]
     },
     "execution_count": 15,
     "metadata": {},
     "output_type": "execute_result"
    }
   ],
   "source": [
    "non_clusters_2d_hist_saved = np.load(non_clusters_2d_hist_file, allow_pickle=True)\n",
    "np.allclose(non_clusters_2d_hist_saved, non_clusters_2d_hist)"
   ]
  },
  {
   "cell_type": "markdown",
   "metadata": {},
   "source": [
    "Go to [Index](#index)"
   ]
  }
 ],
 "metadata": {
  "kernelspec": {
   "display_name": "Python 3",
   "language": "python",
   "name": "python3"
  },
  "language_info": {
   "codemirror_mode": {
    "name": "ipython",
    "version": 3
   },
   "file_extension": ".py",
   "mimetype": "text/x-python",
   "name": "python",
   "nbconvert_exporter": "python",
   "pygments_lexer": "ipython3",
   "version": "3.7.5"
  }
 },
 "nbformat": 4,
 "nbformat_minor": 4
}
